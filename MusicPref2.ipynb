{
  "nbformat": 4,
  "nbformat_minor": 0,
  "metadata": {
    "colab": {
      "name": "MusicPref2.ipynb",
      "provenance": [],
      "collapsed_sections": []
    },
    "kernelspec": {
      "name": "python3",
      "display_name": "Python 3"
    }
  },
  "cells": [
    {
      "cell_type": "code",
      "metadata": {
        "id": "6eDzuXVFNia8"
      },
      "source": [
        "import pandas as pd\r\n",
        "import numpy as np\r\n",
        "import seaborn as sns\r\n",
        "import matplotlib.pyplot as plt\r\n",
        "from dateutil.relativedelta import relativedelta"
      ],
      "execution_count": null,
      "outputs": []
    },
    {
      "cell_type": "code",
      "metadata": {
        "id": "BqP0LCUONtVc"
      },
      "source": [
        "data = pd.read_csv('/content/Music Preference (Responses) - Form Responses 1.csv')"
      ],
      "execution_count": null,
      "outputs": []
    },
    {
      "cell_type": "code",
      "metadata": {
        "colab": {
          "base_uri": "https://localhost:8080/"
        },
        "id": "SBxy7JZxOKd8",
        "outputId": "397c2cee-7615-4953-eb04-639f50b06bed"
      },
      "source": [
        "data.shape"
      ],
      "execution_count": null,
      "outputs": [
        {
          "output_type": "execute_result",
          "data": {
            "text/plain": [
              "(117, 22)"
            ]
          },
          "metadata": {
            "tags": []
          },
          "execution_count": 3
        }
      ]
    },
    {
      "cell_type": "code",
      "metadata": {
        "id": "rlrWXtkPOM2Z"
      },
      "source": [
        "age = data.Age[0:57]"
      ],
      "execution_count": null,
      "outputs": []
    },
    {
      "cell_type": "code",
      "metadata": {
        "id": "O2Y2ugerOZ-c",
        "colab": {
          "base_uri": "https://localhost:8080/"
        },
        "outputId": "388d2436-810d-441b-82cc-1172d53e9e43"
      },
      "source": [
        "age"
      ],
      "execution_count": null,
      "outputs": [
        {
          "output_type": "execute_result",
          "data": {
            "text/plain": [
              "0      1/19/2001\n",
              "1     11/24/2000\n",
              "2      10/3/1998\n",
              "3       5/7/2001\n",
              "4       2/7/1998\n",
              "5     12/26/1998\n",
              "6     11/12/1996\n",
              "7      9/22/2001\n",
              "8      1/29/2000\n",
              "9      11/1/2000\n",
              "10     2/19/2000\n",
              "11     8/10/2000\n",
              "12     8/10/2000\n",
              "13     6/20/2000\n",
              "14      9/6/2000\n",
              "15     1/19/1999\n",
              "16     7/16/2000\n",
              "17     4/28/2001\n",
              "18      6/1/2001\n",
              "19     2/15/2001\n",
              "20     11/7/2000\n",
              "21     1/13/1990\n",
              "22    11/10/1953\n",
              "23     7/28/1958\n",
              "24    11/16/1980\n",
              "25     11/4/1973\n",
              "26     6/15/2000\n",
              "27      8/3/2000\n",
              "28     9/25/1959\n",
              "29     6/28/1996\n",
              "30     6/26/1960\n",
              "31     1/22/2021\n",
              "32     1/31/2001\n",
              "33    11/23/2000\n",
              "34      7/2/2001\n",
              "35     7/13/1958\n",
              "36     8/28/1999\n",
              "37     1/22/2019\n",
              "38     7/22/1982\n",
              "39     4/28/2002\n",
              "40     5/25/2001\n",
              "41      5/1/1987\n",
              "42      8/2/1999\n",
              "43      7/1/1958\n",
              "44     8/12/1984\n",
              "45      8/3/1980\n",
              "46      5/9/1961\n",
              "47      7/7/2002\n",
              "48      1/3/2002\n",
              "49    12/24/1962\n",
              "50    10/26/2000\n",
              "51     11/3/2000\n",
              "52     3/20/2003\n",
              "53     1/22/2021\n",
              "54     7/31/1962\n",
              "55      9/9/2000\n",
              "56     6/10/2021\n",
              "Name: Age, dtype: object"
            ]
          },
          "metadata": {
            "tags": []
          },
          "execution_count": 5
        }
      ]
    },
    {
      "cell_type": "code",
      "metadata": {
        "id": "-AlR_ZZ_UKrZ"
      },
      "source": [
        "age = pd.to_datetime(age, errors='coerce')## convert to standard date time format"
      ],
      "execution_count": null,
      "outputs": []
    },
    {
      "cell_type": "code",
      "metadata": {
        "id": "uqt7GeL4WUCv"
      },
      "source": [
        "age = pd.to_datetime(age)\n",
        "age = age.apply(lambda x : (pd.datetime.now().year - x.year))## obtain age from the given DOB according to 2021"
      ],
      "execution_count": null,
      "outputs": []
    },
    {
      "cell_type": "code",
      "metadata": {
        "id": "i7_gucqiWg2-",
        "colab": {
          "base_uri": "https://localhost:8080/"
        },
        "outputId": "9a5882f0-a8ac-4ce6-f999-177fc809d699"
      },
      "source": [
        "age"
      ],
      "execution_count": null,
      "outputs": [
        {
          "output_type": "execute_result",
          "data": {
            "text/plain": [
              "0     20\n",
              "1     21\n",
              "2     23\n",
              "3     20\n",
              "4     23\n",
              "5     23\n",
              "6     25\n",
              "7     20\n",
              "8     21\n",
              "9     21\n",
              "10    21\n",
              "11    21\n",
              "12    21\n",
              "13    21\n",
              "14    21\n",
              "15    22\n",
              "16    21\n",
              "17    20\n",
              "18    20\n",
              "19    20\n",
              "20    21\n",
              "21    31\n",
              "22    68\n",
              "23    63\n",
              "24    41\n",
              "25    48\n",
              "26    21\n",
              "27    21\n",
              "28    62\n",
              "29    25\n",
              "30    61\n",
              "31     0\n",
              "32    20\n",
              "33    21\n",
              "34    20\n",
              "35    63\n",
              "36    22\n",
              "37     2\n",
              "38    39\n",
              "39    19\n",
              "40    20\n",
              "41    34\n",
              "42    22\n",
              "43    63\n",
              "44    37\n",
              "45    41\n",
              "46    60\n",
              "47    19\n",
              "48    19\n",
              "49    59\n",
              "50    21\n",
              "51    21\n",
              "52    18\n",
              "53     0\n",
              "54    59\n",
              "55    21\n",
              "56     0\n",
              "Name: Age, dtype: int64"
            ]
          },
          "metadata": {
            "tags": []
          },
          "execution_count": 8
        }
      ]
    },
    {
      "cell_type": "code",
      "metadata": {
        "id": "pxMmn3QBWyX8"
      },
      "source": [
        "data.Age[0:57]=age"
      ],
      "execution_count": null,
      "outputs": []
    },
    {
      "cell_type": "code",
      "metadata": {
        "id": "ENRnWwUNcsSe"
      },
      "source": [
        "data.head()"
      ],
      "execution_count": null,
      "outputs": []
    },
    {
      "cell_type": "code",
      "metadata": {
        "id": "5ZRpkTyifOYb"
      },
      "source": [
        "age2 = data.Age.to_numpy(dtype='int')# convert PD frame to numpy array"
      ],
      "execution_count": null,
      "outputs": []
    },
    {
      "cell_type": "code",
      "metadata": {
        "id": "oOq3WbqzhgIX"
      },
      "source": [
        "import math\n",
        "mean = math.floor(age2.mean()) # mean without decimals"
      ],
      "execution_count": null,
      "outputs": []
    },
    {
      "cell_type": "code",
      "metadata": {
        "colab": {
          "base_uri": "https://localhost:8080/"
        },
        "id": "SWNyLloPhxOF",
        "outputId": "493b9873-ff74-45fb-fbf2-3d407c9f8240"
      },
      "source": [
        "mean"
      ],
      "execution_count": null,
      "outputs": [
        {
          "output_type": "execute_result",
          "data": {
            "text/plain": [
              "31"
            ]
          },
          "metadata": {
            "tags": []
          },
          "execution_count": 13
        }
      ]
    },
    {
      "cell_type": "code",
      "metadata": {
        "id": "C0ccOmwpgV2i"
      },
      "source": [
        "import math\n",
        "age2=np.where(age2<10,mean,age2) # replace age with mean if value is less than 10, remains same if >10"
      ],
      "execution_count": null,
      "outputs": []
    },
    {
      "cell_type": "code",
      "metadata": {
        "colab": {
          "base_uri": "https://localhost:8080/"
        },
        "id": "4--F6bKRgrFX",
        "outputId": "f9bb307f-2f2a-47f9-cb9a-e153812a5e2a"
      },
      "source": [
        "age2"
      ],
      "execution_count": null,
      "outputs": [
        {
          "output_type": "execute_result",
          "data": {
            "text/plain": [
              "array([20, 21, 23, 20, 23, 23, 25, 20, 21, 21, 21, 21, 21, 21, 21, 22, 21,\n",
              "       20, 20, 20, 21, 31, 68, 63, 41, 48, 21, 21, 62, 25, 61, 31, 20, 21,\n",
              "       20, 63, 22, 31, 39, 19, 20, 34, 22, 63, 37, 41, 60, 19, 19, 59, 21,\n",
              "       21, 18, 31, 59, 21, 31, 18, 33, 58, 62, 62, 20, 43, 58, 58, 54, 20,\n",
              "       32, 60, 20, 32, 65, 59, 59, 20, 62, 39, 19, 20, 69, 55, 64, 49, 60,\n",
              "       57, 15, 20, 50, 21, 47, 16, 54, 22, 19, 19, 19, 19, 20, 25, 27, 20,\n",
              "       18, 21, 23, 21, 17, 17, 17, 17, 20, 24, 18, 19, 54, 60, 23])"
            ]
          },
          "metadata": {
            "tags": []
          },
          "execution_count": 15
        }
      ]
    },
    {
      "cell_type": "code",
      "metadata": {
        "id": "Za601RSkie_Z"
      },
      "source": [
        "data.Age = age2"
      ],
      "execution_count": null,
      "outputs": []
    },
    {
      "cell_type": "code",
      "metadata": {
        "id": "5IEN0NXgilbz"
      },
      "source": [
        "data.head()"
      ],
      "execution_count": null,
      "outputs": []
    },
    {
      "cell_type": "code",
      "metadata": {
        "id": "Z1yd6c_hi3nw"
      },
      "source": [
        "data=data.rename(columns={'I am a student':'Student','Home State':'State','Mother Tongue':'MotherTongue','My 1st Language preference for streaming music':'MY1L','My 2nd Language preference for streaming music':'MY2L','My 3rd Language preference for streaming music':'MY3L','Do you like listening to old songs':'RateOldSongs','Do you like listening to devotional songs':'RateDevSongs','I love listening to music':'RateMusic','Choose the set that contains your most favorite genres':'GeneresPreference','At what time you listen to music a lot':'MusicTime','Why do you listen to music':'Reason','How likely you enjoy music while you are traveling':'MusicWhileTravelling'})"
      ],
      "execution_count": null,
      "outputs": []
    },
    {
      "cell_type": "code",
      "metadata": {
        "id": "83kOPbb5j77D"
      },
      "source": [
        "data.Student[data.Student == 'Yes'] = 1\n",
        "data.Student[data.Student == 'No'] = 0  ## changing to numerical values"
      ],
      "execution_count": null,
      "outputs": []
    },
    {
      "cell_type": "code",
      "metadata": {
        "id": "IF_Kc3d8kjfn"
      },
      "source": [
        "data.Gender[data.Gender == 'Male'] = 1\n",
        "data.Gender[data.Gender == 'Female'] = 0## changing to numerical values"
      ],
      "execution_count": null,
      "outputs": []
    },
    {
      "cell_type": "code",
      "metadata": {
        "id": "b1yHva56kGQq"
      },
      "source": [
        "data.head()"
      ],
      "execution_count": null,
      "outputs": []
    },
    {
      "cell_type": "code",
      "metadata": {
        "id": "gv__Q0uAwzDq"
      },
      "source": [
        "data=data.drop(columns=['Stream(Optional)'])"
      ],
      "execution_count": null,
      "outputs": []
    },
    {
      "cell_type": "code",
      "metadata": {
        "id": "cO1tSILCoINs"
      },
      "source": [
        "state =data.State.to_numpy(dtype='str')"
      ],
      "execution_count": null,
      "outputs": []
    },
    {
      "cell_type": "code",
      "metadata": {
        "id": "R4RolWIPob-p",
        "colab": {
          "base_uri": "https://localhost:8080/"
        },
        "outputId": "a90f5308-1443-4123-d7e5-aa5a79294b39"
      },
      "source": [
        "data.State.unique()"
      ],
      "execution_count": null,
      "outputs": [
        {
          "output_type": "execute_result",
          "data": {
            "text/plain": [
              "array(['Andhara Pradesh ', 'Tamil nadu', 'Telangana', 'Andhra pradesh',\n",
              "       'Andhra Pradesh', 'Tripura', 'Telangana ', 'Andhra Pradesh ',\n",
              "       'Telengana', 'Kerala', 'Karnataka', 'Andhra predesh', 'Ap',\n",
              "       'Tamil Nadu', 'Andhrapradesh', 'West bengal', 'andhra pradesh',\n",
              "       'Andrapradesh', 'Andra Pradesh', 'Neyveli, tamil Nadu', 'AP',\n",
              "       'A.P.', 'Berhampur, Orissa', 'AndhraPradesh', 'Andhra Prafesh',\n",
              "       'Visakhaoatnam,Ap', 'Vizag, Andhrapradesh ', 'Andhra pradesh ',\n",
              "       'ap', 'Odisha', 'Ap and Karnataka', '𝐴𝑛𝑑ℎ𝑟𝑎 𝑝𝑟𝑎𝑑𝑒𝑠ℎ'], dtype=object)"
            ]
          },
          "metadata": {
            "tags": []
          },
          "execution_count": 24
        }
      ]
    },
    {
      "cell_type": "code",
      "metadata": {
        "id": "sFJatT28o43M"
      },
      "source": [
        "list_of_states = ['Andhara Pradesh','AP','Tamil nadu','Telangana','Kerala','Orissa','Tripura','Karnataka','West Bengal']## listing unique ones"
      ],
      "execution_count": null,
      "outputs": []
    },
    {
      "cell_type": "code",
      "metadata": {
        "id": "yu67ZAQIp76B"
      },
      "source": [
        "pip install fuzzywuzzy # string matching library"
      ],
      "execution_count": null,
      "outputs": []
    },
    {
      "cell_type": "code",
      "metadata": {
        "id": "gmNj3hFarCSL"
      },
      "source": [
        "pip install python-Levenshtein\n"
      ],
      "execution_count": null,
      "outputs": []
    },
    {
      "cell_type": "code",
      "metadata": {
        "id": "ClkI8j_vrJ9J"
      },
      "source": [
        "from fuzzywuzzy import fuzz \n",
        "from fuzzywuzzy import process "
      ],
      "execution_count": null,
      "outputs": []
    },
    {
      "cell_type": "code",
      "metadata": {
        "id": "97dE0hpdrLVC"
      },
      "source": [
        "statesdict = {\n",
        "    'Andhara Pradesh':0,\n",
        "     'AP':0,\n",
        "    'Tamil nadu':1,\n",
        "    'Telangana':2,\n",
        "     'Kerala':3,\n",
        "    'Orissa':4,\n",
        "    'Tripura':5,\n",
        "    'Karnataka':6,\n",
        "    'West Bengal':7\n",
        "}"
      ],
      "execution_count": null,
      "outputs": []
    },
    {
      "cell_type": "code",
      "metadata": {
        "id": "skL5VKjOrnIP"
      },
      "source": [
        "for i in range(0,state.size):\n",
        " state[i]=np.where(True,statesdict[process.extractOne(state[i], list_of_states)[0]],\"\") ## matches our original state to the ones in dictionary and returns it."
      ],
      "execution_count": null,
      "outputs": []
    },
    {
      "cell_type": "code",
      "metadata": {
        "id": "rrD25u0nv8_R",
        "colab": {
          "base_uri": "https://localhost:8080/"
        },
        "outputId": "7c7cb160-d151-4754-e16f-b784aac09d3b"
      },
      "source": [
        "state"
      ],
      "execution_count": null,
      "outputs": [
        {
          "output_type": "execute_result",
          "data": {
            "text/plain": [
              "array(['0', '1', '0', '2', '0', '0', '5', '0', '0', '2', '0', '0', '0',\n",
              "       '2', '0', '0', '0', '2', '0', '3', '0', '0', '6', '6', '0', '0',\n",
              "       '0', '0', '2', '0', '2', '0', '1', '2', '0', '0', '0', '7', '0',\n",
              "       '0', '0', '0', '0', '0', '0', '2', '2', '3', '2', '0', '0', '1',\n",
              "       '0', '0', '0', '2', '0', '2', '0', '0', '0', '0', '0', '2', '0',\n",
              "       '0', '4', '0', '0', '0', '2', '0', '2', '0', '0', '2', '0', '0',\n",
              "       '2', '2', '0', '0', '0', '0', '0', '0', '2', '2', '2', '2', '0',\n",
              "       '2', '0', '0', '0', '0', '0', '0', '0', '4', '2', '0', '0', '0',\n",
              "       '0', '0', '0', '0', '0', '0', '1', '0', '0', '0', '0', '0', '0'],\n",
              "      dtype='<U21')"
            ]
          },
          "metadata": {
            "tags": []
          },
          "execution_count": 31
        }
      ]
    },
    {
      "cell_type": "code",
      "metadata": {
        "id": "NbFDfokMwL6D"
      },
      "source": [
        "data.State=state"
      ],
      "execution_count": null,
      "outputs": []
    },
    {
      "cell_type": "code",
      "metadata": {
        "id": "3_tj-AmpwXBW"
      },
      "source": [
        "data.head()"
      ],
      "execution_count": null,
      "outputs": []
    },
    {
      "cell_type": "code",
      "metadata": {
        "colab": {
          "base_uri": "https://localhost:8080/"
        },
        "id": "Kkb8kA57mGF1",
        "outputId": "1b15fac1-3830-45c7-f514-87a3e3c65c84"
      },
      "source": [
        "data.MotherTongue.unique()"
      ],
      "execution_count": null,
      "outputs": [
        {
          "output_type": "execute_result",
          "data": {
            "text/plain": [
              "array(['Telugu', 'Tamil', 'Telugu ', 'Bengali', 'Assamese ', 'Urdu',\n",
              "       'Malayalam', 'Kolkata', 'telugu', 'Kannada', 'TELUGU', 'tekugy',\n",
              "       '𝑇𝑒𝑙𝑢𝑔𝑢', 'Telegu'], dtype=object)"
            ]
          },
          "metadata": {
            "tags": []
          },
          "execution_count": 34
        }
      ]
    },
    {
      "cell_type": "code",
      "metadata": {
        "id": "hNHPl7pCxo8j"
      },
      "source": [
        "list_of_langs=['Telugu','Tamil','Hindi','Malayalam','Urdu','Kannada','Kolkata','Assamese','Korean','Japneese','Punjabi','Bengali']\n",
        "#here kolkata means bengali"
      ],
      "execution_count": null,
      "outputs": []
    },
    {
      "cell_type": "code",
      "metadata": {
        "id": "T4z662Epx3Tm"
      },
      "source": [
        "lang_dict = {\n",
        "    'Telugu':0,\n",
        "     'Tamil':1,\n",
        "    'Hindi':2,\n",
        "    'Malayalam':3,\n",
        "     'Urdu':4,\n",
        "     'Kannada':5,\n",
        "     'Kolkata':6,\n",
        "     'Assamese':7,\n",
        "     'Korean':8,\n",
        "     'Japneese':9,\n",
        "      'Bengali':10,\n",
        "       'Punjabi':11\n",
        "}"
      ],
      "execution_count": null,
      "outputs": []
    },
    {
      "cell_type": "code",
      "metadata": {
        "id": "zemF7ylr20fH"
      },
      "source": [
        "langs=data.MotherTongue.to_numpy(dtype='str')"
      ],
      "execution_count": null,
      "outputs": []
    },
    {
      "cell_type": "code",
      "metadata": {
        "id": "k6OS5Fb72_6w",
        "colab": {
          "base_uri": "https://localhost:8080/"
        },
        "outputId": "e64931bc-f079-46a3-fa09-e8fc2f86b1e9"
      },
      "source": [
        "langs"
      ],
      "execution_count": null,
      "outputs": [
        {
          "output_type": "execute_result",
          "data": {
            "text/plain": [
              "array(['Telugu', 'Tamil', 'Telugu', 'Telugu ', 'Telugu ', 'Telugu',\n",
              "       'Bengali', 'Telugu', 'Telugu', 'Telugu', 'Telugu', 'Telugu',\n",
              "       'Telugu', 'Assamese ', 'Telugu', 'Urdu', 'Telugu', 'Telugu',\n",
              "       'Telugu', 'Malayalam', 'Telugu', 'Telugu', 'Telugu', 'Telugu',\n",
              "       'Telugu ', 'Telugu ', 'Telugu', 'Telugu', 'Telugu', 'Telugu',\n",
              "       'Telugu ', 'Telugu', 'Tamil', 'Telugu', 'Telugu', 'Telugu',\n",
              "       'Telugu', 'Kolkata', 'telugu', 'Telugu', 'Telugu', 'Telugu',\n",
              "       'Telugu ', 'Telugu', 'Telugu', 'Telugu', 'Telugu ', 'Malayalam',\n",
              "       'Telugu', 'Telugu', 'Telugu', 'Tamil', 'Telugu ', 'Telugu',\n",
              "       'Telugu', 'Telugu', 'Telugu', 'Telugu', 'Telugu', 'Telugu',\n",
              "       'Telugu', 'Telugu ', 'Telugu', 'Telugu', 'Telugu', 'Telugu',\n",
              "       'Telugu', 'Telugu', 'Kannada', 'Telugu ', 'Telugu', 'Telugu',\n",
              "       'Telugu', 'Telugu', 'Telugu', 'Telugu', 'Telugu', 'TELUGU',\n",
              "       'Telugu', 'Telugu ', 'Telugu', 'Telugu', 'Telugu', 'Telugu ',\n",
              "       'Telugu', 'Telugu', 'Telugu', 'Urdu', 'Telugu', 'Telugu', 'Telugu',\n",
              "       'Telugu', 'Telugu ', 'Telugu', 'Telugu', 'Telugu', 'Telugu',\n",
              "       'Telugu', 'tekugy', 'Telugu', 'Telugu ', 'Telugu', 'Telugu',\n",
              "       'Telugu', 'Telugu', 'Telugu', 'Kannada', 'Kannada', 'Kannada',\n",
              "       'Telugu', '𝑇𝑒𝑙𝑢𝑔𝑢', 'Telugu', 'Telugu', 'Telugu', 'Telegu',\n",
              "       'Telugu', 'TELUGU'], dtype='<U9')"
            ]
          },
          "metadata": {
            "tags": []
          },
          "execution_count": 38
        }
      ]
    },
    {
      "cell_type": "code",
      "metadata": {
        "id": "SGGGJSHY3LxS"
      },
      "source": [
        "for i in range(0,langs.size):\n",
        " langs[i]=np.where(True,lang_dict[process.extractOne(langs[i], list_of_langs)[0]],\"\")"
      ],
      "execution_count": null,
      "outputs": []
    },
    {
      "cell_type": "code",
      "metadata": {
        "id": "-XYcst5D30Rx",
        "colab": {
          "base_uri": "https://localhost:8080/"
        },
        "outputId": "ab1b0c9e-5161-4329-a1b0-6ad8107a8ffb"
      },
      "source": [
        "langs"
      ],
      "execution_count": null,
      "outputs": [
        {
          "output_type": "execute_result",
          "data": {
            "text/plain": [
              "array(['0', '1', '0', '0', '0', '0', '10', '0', '0', '0', '0', '0', '0',\n",
              "       '7', '0', '4', '0', '0', '0', '3', '0', '0', '0', '0', '0', '0',\n",
              "       '0', '0', '0', '0', '0', '0', '1', '0', '0', '0', '0', '6', '0',\n",
              "       '0', '0', '0', '0', '0', '0', '0', '0', '3', '0', '0', '0', '1',\n",
              "       '0', '0', '0', '0', '0', '0', '0', '0', '0', '0', '0', '0', '0',\n",
              "       '0', '0', '0', '5', '0', '0', '0', '0', '0', '0', '0', '0', '0',\n",
              "       '0', '0', '0', '0', '0', '0', '0', '0', '0', '4', '0', '0', '0',\n",
              "       '0', '0', '0', '0', '0', '0', '0', '0', '0', '0', '0', '0', '0',\n",
              "       '0', '0', '5', '5', '5', '0', '0', '0', '0', '0', '0', '0', '0'],\n",
              "      dtype='<U9')"
            ]
          },
          "metadata": {
            "tags": []
          },
          "execution_count": 40
        }
      ]
    },
    {
      "cell_type": "code",
      "metadata": {
        "id": "6gNEOLg_4nzz"
      },
      "source": [
        "data.MotherTongue=langs"
      ],
      "execution_count": null,
      "outputs": []
    },
    {
      "cell_type": "code",
      "metadata": {
        "id": "ceYe8VC74fUT"
      },
      "source": [
        "data.head()"
      ],
      "execution_count": null,
      "outputs": []
    },
    {
      "cell_type": "code",
      "metadata": {
        "id": "99ctLSIs5zM-"
      },
      "source": [
        "myl1=data.MY1L.to_numpy(dtype='str')\n",
        "myl2=data.MY2L.to_numpy(dtype='str')\n",
        "myl3=data.MY3L.to_numpy(dtype='str')"
      ],
      "execution_count": null,
      "outputs": []
    },
    {
      "cell_type": "code",
      "metadata": {
        "id": "KG_Qbo3W6Hw7"
      },
      "source": [
        "for i in range(0,myl1.size):\n",
        " myl1[i]=np.where(True,lang_dict[process.extractOne(myl1[i], list_of_langs)[0]],\"vcx\")"
      ],
      "execution_count": null,
      "outputs": []
    },
    {
      "cell_type": "code",
      "metadata": {
        "id": "x5B7T4bt6ksu"
      },
      "source": [
        "for i in range(0,myl2.size):\n",
        " myl2[i]=np.where(True,lang_dict[process.extractOne(myl2[i], list_of_langs)[0]],\"vcx\")"
      ],
      "execution_count": null,
      "outputs": []
    },
    {
      "cell_type": "code",
      "metadata": {
        "id": "ARSBy6fu6pUd"
      },
      "source": [
        "for i in range(0,myl3.size):\n",
        " myl3[i]=np.where(True,lang_dict[process.extractOne(myl3[i], list_of_langs)[0]],\"vcx\")"
      ],
      "execution_count": null,
      "outputs": []
    },
    {
      "cell_type": "code",
      "metadata": {
        "id": "kCUrcrg56upJ",
        "colab": {
          "base_uri": "https://localhost:8080/"
        },
        "outputId": "3bc6aa2e-7a6b-4064-9cf1-cb2418add0e3"
      },
      "source": [
        "myl1"
      ],
      "execution_count": null,
      "outputs": [
        {
          "output_type": "execute_result",
          "data": {
            "text/plain": [
              "array(['0', '1', '0', '0', '0', '0', '2', '10', '2', '0', '0', '2', '2',\n",
              "       '10', '10', '10', '0', '0', '10', '8', '0', '0', '0', '0', '0',\n",
              "       '0', '0', '0', '0', '5', '0', '0', '1', '0', '2', '0', '0', '10',\n",
              "       '10', '0', '0', '0', '0', '0', '0', '0', '0', '3', '10', '0', '8',\n",
              "       '1', '10', '0', '0', '0', '0', '0', '0', '0', '0', '0', '0', '0',\n",
              "       '0', '0', '0', '0', '0', '0', '0', '0', '0', '2', '0', '10', '0',\n",
              "       '0', '0', '0', '2', '0', '0', '0', '10', '0', '0', '0', '0', '10',\n",
              "       '0', '2', '0', '0', '0', '0', '0', '0', '3', '10', '0', '10', '0',\n",
              "       '0', '0', '0', '1', '1', '1', '10', '0', '0', '0', '0', '0', '2',\n",
              "       '0'], dtype='<U9')"
            ]
          },
          "metadata": {
            "tags": []
          },
          "execution_count": 47
        }
      ]
    },
    {
      "cell_type": "code",
      "metadata": {
        "id": "g6GQhiCE6wdR",
        "colab": {
          "base_uri": "https://localhost:8080/"
        },
        "outputId": "b0036e1b-71e1-4039-d7e7-b316cc5735e0"
      },
      "source": [
        "myl2"
      ],
      "execution_count": null,
      "outputs": [
        {
          "output_type": "execute_result",
          "data": {
            "text/plain": [
              "array(['2', '10', '10', '2', '2', '10', '11', '0', '10', '10', '2', '10',\n",
              "       '10', '2', '0', '4', '0', '2', '2', '10', '2', '2', '2', '2', '2',\n",
              "       '2', '10', '10', '0', '2', '2', '7', '0', '2', '0', '0', '2', '2',\n",
              "       '0', '2', '0', '0', '1', '10', '2', '2', '2', '2', '2', '2', '0',\n",
              "       '8', '0', '2', '2', '2', '2', '2', '2', '2', '2', '10', '3', '2',\n",
              "       '0', '2', '1', '2', '2', '0', '10', '2', '2', '0', '2', '0', '10',\n",
              "       '2', '2', '2', '0', '1', '2', '2', '2', '0', '10', '2', '2', '2',\n",
              "       '2', '10', '2', '11', '1', '2', '2', '2', '1', '0', '10', '10',\n",
              "       '2', '10', '1', '10', '0', '0', '0', '0', '0', '1', '1', '2', '2',\n",
              "       '10', '2'], dtype='<U15')"
            ]
          },
          "metadata": {
            "tags": []
          },
          "execution_count": 48
        }
      ]
    },
    {
      "cell_type": "code",
      "metadata": {
        "id": "BZB7Az5X6zJZ",
        "colab": {
          "base_uri": "https://localhost:8080/"
        },
        "outputId": "f3d3d0ba-11fa-45dd-b12e-78ba19db722c"
      },
      "source": [
        "myl3"
      ],
      "execution_count": null,
      "outputs": [
        {
          "output_type": "execute_result",
          "data": {
            "text/plain": [
              "array(['10', '3', '2', '10', '10', '10', '11', '2', '0', '2', '1', '0',\n",
              "       '0', '8', '2', '0', '10', '10', '0', '10', '1', '10', '2', '2',\n",
              "       '2', '10', '2', '2', '5', '0', '10', '2', '5', '10', '11', '0',\n",
              "       '1', '10', '0', '3', '0', '0', '2', '2', '1', '10', '10', '10',\n",
              "       '11', '0', '10', '3', '2', '10', '0', '10', '10', '8', '10', '0',\n",
              "       '10', '2', '1', '10', '0', '1', '3', '0', '5', '0', '2', '0', '0',\n",
              "       '0', '1', '2', '10', '0', '10', '10', '10', '2', '10', '1', '2',\n",
              "       '2', '3', '2', '1', '0', '2', '0', '2', '1', '3', '10', '10', '1',\n",
              "       '2', '2', '2', '10', '10', '2', '2', '1', '10', '10', '10', '2',\n",
              "       '0', '2', '10', '1', '10', '0', '10'], dtype='<U19')"
            ]
          },
          "metadata": {
            "tags": []
          },
          "execution_count": 49
        }
      ]
    },
    {
      "cell_type": "code",
      "metadata": {
        "id": "g6OyVPXb63FH"
      },
      "source": [
        "data.MY1L=myl1\n",
        "data.MY2L=myl2\n",
        "data.MY3L=myl3"
      ],
      "execution_count": null,
      "outputs": []
    },
    {
      "cell_type": "code",
      "metadata": {
        "id": "-n9OO1jI7MpD"
      },
      "source": [
        "data.head()"
      ],
      "execution_count": null,
      "outputs": []
    },
    {
      "cell_type": "code",
      "metadata": {
        "id": "42hDV3Cp73RS"
      },
      "source": [
        "gp=data.GeneresPreference.to_numpy(dtype='str')"
      ],
      "execution_count": null,
      "outputs": []
    },
    {
      "cell_type": "code",
      "metadata": {
        "id": "arlzYPWe8Cdg"
      },
      "source": [
        "gp_list=['Classical,Blues,Folk,Jazz','Alternative,Rock,HeavyMetal','Country, Religious, Pop, Soundtracks/theme','Dance/Electronica, Rap/hip-hop, Soul/funk']"
      ],
      "execution_count": null,
      "outputs": []
    },
    {
      "cell_type": "code",
      "metadata": {
        "id": "dV97zN2Y-ApH"
      },
      "source": [
        "gp_dict = {\n",
        "    'Classical,Blues,Folk,Jazz':0,\n",
        "    'Alternative,Rock,HeavyMetal':1,\n",
        "    'Country, Religious, Pop, Soundtracks/theme':2,\n",
        "    'Dance/Electronica, Rap/hip-hop, Soul/funk':3\n",
        "}"
      ],
      "execution_count": null,
      "outputs": []
    },
    {
      "cell_type": "code",
      "metadata": {
        "id": "9OTeH_cd-SDn"
      },
      "source": [
        "for i in range(0,gp.size):\n",
        " gp[i]=np.where(True,gp_dict[process.extractOne(gp[i], gp_list)[0]],\"vcx\")"
      ],
      "execution_count": null,
      "outputs": []
    },
    {
      "cell_type": "code",
      "metadata": {
        "id": "y0iNNOcE-r0O",
        "colab": {
          "base_uri": "https://localhost:8080/"
        },
        "outputId": "ea8dfc22-cd5f-40dc-cfa6-fb32f7c14b11"
      },
      "source": [
        "gp"
      ],
      "execution_count": null,
      "outputs": [
        {
          "output_type": "execute_result",
          "data": {
            "text/plain": [
              "array(['0', '2', '3', '2', '3', '3', '2', '1', '3', '1', '0', '0', '0',\n",
              "       '0', '2', '2', '2', '0', '3', '2', '0', '3', '0', '0', '2', '0',\n",
              "       '1', '0', '0', '0', '2', '2', '0', '3', '0', '2', '3', '2', '1',\n",
              "       '2', '2', '0', '2', '0', '0', '3', '0', '1', '3', '0', '3', '2',\n",
              "       '2', '0', '0', '0', '0', '3', '0', '0', '0', '2', '2', '2', '0',\n",
              "       '0', '0', '3', '3', '2', '2', '3', '2', '2', '0', '2', '0', '0',\n",
              "       '0', '0', '0', '0', '2', '0', '2', '0', '3', '1', '2', '3', '0',\n",
              "       '3', '0', '0', '0', '3', '3', '0', '3', '2', '0', '2', '2', '0',\n",
              "       '0', '0', '3', '3', '3', '2', '3', '3', '3', '2', '2', '2', '0'],\n",
              "      dtype='<U42')"
            ]
          },
          "metadata": {
            "tags": []
          },
          "execution_count": 56
        }
      ]
    },
    {
      "cell_type": "code",
      "metadata": {
        "id": "uEf40ISe-u3E"
      },
      "source": [
        "data.GeneresPreference = gp"
      ],
      "execution_count": null,
      "outputs": []
    },
    {
      "cell_type": "code",
      "metadata": {
        "id": "LOq89M4Y-1bR"
      },
      "source": [
        "data.head()"
      ],
      "execution_count": null,
      "outputs": []
    },
    {
      "cell_type": "code",
      "metadata": {
        "id": "qG5kgIgvKNvj"
      },
      "source": [
        "data=data.drop(columns=['My 1st Favourite song Language, Album/Artist','My 2nd Favourite song Language, Album/Artist','My 3rd Favourite song Language, Album/Artist'])"
      ],
      "execution_count": null,
      "outputs": []
    },
    {
      "cell_type": "code",
      "metadata": {
        "id": "6ypXrxreK510"
      },
      "source": [
        "data=data.drop(columns=['Education'])"
      ],
      "execution_count": null,
      "outputs": []
    },
    {
      "cell_type": "code",
      "metadata": {
        "id": "gYE4JMKLLNhI"
      },
      "source": [
        "data=data.drop(columns=['Timestamp'])"
      ],
      "execution_count": null,
      "outputs": []
    },
    {
      "cell_type": "code",
      "metadata": {
        "id": "B_ISZeMQLRt1"
      },
      "source": [
        "data.head()"
      ],
      "execution_count": null,
      "outputs": []
    },
    {
      "cell_type": "code",
      "metadata": {
        "id": "Wi2ciqiKXGNy"
      },
      "source": [
        "mt=data.MusicTime.to_numpy(dtype='str')"
      ],
      "execution_count": null,
      "outputs": []
    },
    {
      "cell_type": "code",
      "metadata": {
        "id": "bnmYgauSXWOq",
        "colab": {
          "base_uri": "https://localhost:8080/"
        },
        "outputId": "0b2ae3c4-0e0e-446b-9e4a-823beb5cd533"
      },
      "source": [
        "mt"
      ],
      "execution_count": null,
      "outputs": [
        {
          "output_type": "execute_result",
          "data": {
            "text/plain": [
              "array(['Evenings', 'Evenings, Night before sleep', 'Night before sleep',\n",
              "       'Evenings, Night before sleep',\n",
              "       'Early Morning right after the bed, Late Morning, After Noon, Evenings, Night before sleep',\n",
              "       'Early Morning right after the bed', 'After Noon', 'Evenings',\n",
              "       'Evenings', 'After Noon, Evenings', 'Evenings, Night before sleep',\n",
              "       'Late Morning, Evenings', 'Late Morning, Evenings',\n",
              "       'Early Morning right after the bed, Evenings',\n",
              "       'Early Morning right after the bed, Late Morning, After Noon, Evenings, Night before sleep',\n",
              "       'Early Morning right after the bed, Late Morning, After Noon, Evenings, Night before sleep',\n",
              "       'Late Morning, Evenings',\n",
              "       'Late Morning, After Noon, Evenings, Night before sleep',\n",
              "       'Evenings, Night before sleep', 'Evenings, Night before sleep',\n",
              "       'After Noon, Evenings, Night before sleep',\n",
              "       'Late Morning, Evenings',\n",
              "       'Early Morning right after the bed, Evenings',\n",
              "       'Late Morning, Evenings, Night before sleep', 'Evenings',\n",
              "       'Night before sleep',\n",
              "       'Early Morning right after the bed, Evenings, Night before sleep',\n",
              "       'Evenings, Night before sleep',\n",
              "       'Early Morning right after the bed, Night before sleep',\n",
              "       'Late Morning, Evenings, Night before sleep',\n",
              "       'After Noon, Night before sleep', 'Evenings, Night before sleep',\n",
              "       'Evenings, Night before sleep', 'Evenings',\n",
              "       'Evenings, Night before sleep',\n",
              "       'Early Morning right after the bed', 'Evenings',\n",
              "       'Early Morning right after the bed, Night before sleep',\n",
              "       'Early Morning right after the bed, Night before sleep',\n",
              "       'Early Morning right after the bed, Evenings, Night before sleep',\n",
              "       'Night before sleep', 'Evenings, Night before sleep',\n",
              "       'Evenings, Night before sleep',\n",
              "       'Early Morning right after the bed, Night before sleep',\n",
              "       'Night before sleep', 'Early Morning right after the bed',\n",
              "       'Early Morning right after the bed, Late Morning',\n",
              "       'Evenings, Night before sleep',\n",
              "       'Late Morning, Evenings, Night before sleep', 'Late Morning',\n",
              "       'Late Morning, Evenings',\n",
              "       'Early Morning right after the bed, Late Morning, After Noon, Evenings, Night before sleep',\n",
              "       'Early Morning right after the bed',\n",
              "       'Evenings, Night before sleep', 'Evenings', 'Evenings',\n",
              "       'Night before sleep', 'Evenings, Night before sleep',\n",
              "       'Night before sleep', 'Night before sleep', 'Night before sleep',\n",
              "       'Evenings, Night before sleep', 'Evenings',\n",
              "       'Early Morning right after the bed', 'Night before sleep',\n",
              "       'Evenings', 'Night before sleep', 'Evenings, Night before sleep',\n",
              "       'Early Morning right after the bed', 'Night before sleep',\n",
              "       'Evenings', 'Evenings, Night before sleep', 'Night before sleep',\n",
              "       'After Noon, Night before sleep',\n",
              "       'Early Morning right after the bed', 'Evenings',\n",
              "       'Late Morning, Evenings', 'Night before sleep',\n",
              "       'Evenings, Night before sleep', 'Evenings, Night before sleep',\n",
              "       'Night before sleep',\n",
              "       'Early Morning right after the bed, Night before sleep',\n",
              "       'Early Morning right after the bed, Evenings',\n",
              "       'Night before sleep', 'After Noon, Evenings, Night before sleep',\n",
              "       'Night before sleep', 'Evenings', 'Evenings, Night before sleep',\n",
              "       'Early Morning right after the bed, Evenings',\n",
              "       'Early Morning right after the bed, After Noon, Evenings',\n",
              "       'Night before sleep', 'After Noon',\n",
              "       'Early Morning right after the bed, Evenings',\n",
              "       'Late Morning, After Noon, Evenings, Night before sleep',\n",
              "       'Night before sleep',\n",
              "       'Early Morning right after the bed, Late Morning, After Noon, Evenings, Night before sleep',\n",
              "       'After Noon, Evenings, Night before sleep',\n",
              "       'Evenings, Night before sleep',\n",
              "       'Early Morning right after the bed',\n",
              "       'Early Morning right after the bed, Late Morning, After Noon, Evenings, Night before sleep',\n",
              "       'Night before sleep', 'Night before sleep', 'Night before sleep',\n",
              "       'Night before sleep', 'Night before sleep', 'Night before sleep',\n",
              "       'Early Morning right after the bed, Night before sleep',\n",
              "       'Early Morning right after the bed, Night before sleep',\n",
              "       'Early Morning right after the bed, Night before sleep',\n",
              "       'Late Morning, After Noon, Evenings, Night before sleep',\n",
              "       'Night before sleep', 'Evenings, Night before sleep',\n",
              "       'Early Morning right after the bed, Late Morning, After Noon, Evenings, Night before sleep',\n",
              "       'Early Morning right after the bed',\n",
              "       'Early Morning right after the bed, Evenings',\n",
              "       'After Noon, Evenings, Night before sleep', 'Evenings'],\n",
              "      dtype='<U89')"
            ]
          },
          "metadata": {
            "tags": []
          },
          "execution_count": 64
        }
      ]
    },
    {
      "cell_type": "code",
      "metadata": {
        "id": "H5m3ZCC1XZi-"
      },
      "source": [
        "for i in range(0,mt.size):\n",
        " mt[i]=np.where(True,np.frombuffer(mt[i], \"uint8\").sum(),\"\")"
      ],
      "execution_count": null,
      "outputs": []
    },
    {
      "cell_type": "code",
      "metadata": {
        "id": "mtlsYTb9X02X",
        "colab": {
          "base_uri": "https://localhost:8080/"
        },
        "outputId": "e93bb111-debe-43df-d73c-da3abf1bf901"
      },
      "source": [
        "mt"
      ],
      "execution_count": null,
      "outputs": [
        {
          "output_type": "execute_result",
          "data": {
            "text/plain": [
              "array(['831', '2641', '1734', '2641', '8052', '3091', '940', '831', '831',\n",
              "       '1847', '2641', '2059', '2059', '3998', '8052', '8052', '2059',\n",
              "       '4885', '2641', '2641', '3657', '2059', '3998', '3869', '831',\n",
              "       '1734', '5808', '2641', '4901', '3869', '2750', '2641', '2641',\n",
              "       '831', '2641', '3091', '831', '4901', '4901', '5808', '1734',\n",
              "       '2641', '2641', '4901', '1734', '3091', '4319', '2641', '3869',\n",
              "       '1152', '2059', '8052', '3091', '2641', '831', '831', '1734',\n",
              "       '2641', '1734', '1734', '1734', '2641', '831', '3091', '1734',\n",
              "       '831', '1734', '2641', '3091', '1734', '831', '2641', '1734',\n",
              "       '2750', '3091', '831', '2059', '1734', '2641', '2641', '1734',\n",
              "       '4901', '3998', '1734', '3657', '1734', '831', '2641', '3998',\n",
              "       '5014', '1734', '940', '3998', '4885', '1734', '8052', '3657',\n",
              "       '2641', '3091', '8052', '1734', '1734', '1734', '1734', '1734',\n",
              "       '1734', '4901', '4901', '4901', '4885', '1734', '2641', '8052',\n",
              "       '3091', '3998', '3657', '831'], dtype='<U89')"
            ]
          },
          "metadata": {
            "tags": []
          },
          "execution_count": 66
        }
      ]
    },
    {
      "cell_type": "code",
      "metadata": {
        "id": "b8GgLYc0YYCG"
      },
      "source": [
        "data.MusicTime=mt"
      ],
      "execution_count": null,
      "outputs": []
    },
    {
      "cell_type": "code",
      "metadata": {
        "id": "IxE8SxBqYcGb"
      },
      "source": [
        "data.head()"
      ],
      "execution_count": null,
      "outputs": []
    },
    {
      "cell_type": "code",
      "metadata": {
        "id": "RdbuUt8aYSsC"
      },
      "source": [
        "rs=data.Reason.to_numpy(dtype='str')"
      ],
      "execution_count": null,
      "outputs": []
    },
    {
      "cell_type": "code",
      "metadata": {
        "colab": {
          "base_uri": "https://localhost:8080/"
        },
        "id": "N3CYbRhLYm4a",
        "outputId": "024d55f9-86d5-4960-8feb-a562fd5750c9"
      },
      "source": [
        "rs"
      ],
      "execution_count": null,
      "outputs": [
        {
          "output_type": "execute_result",
          "data": {
            "text/plain": [
              "array(['Just for fun, It makes me relaxed',\n",
              "       'Just for fun, It makes me relaxed, To enjoy the mood',\n",
              "       'It will help me to manage stress',\n",
              "       'It makes me relaxed, It will help me to manage stress',\n",
              "       'It makes me relaxed, It will help me to manage stress',\n",
              "       'It makes me relaxed',\n",
              "       'It makes me relaxed, It will help me to manage stress',\n",
              "       'It makes me relaxed', 'Just for fun',\n",
              "       'It makes me relaxed, It will help me to manage stress',\n",
              "       'It makes me relaxed, It will help me to manage stress',\n",
              "       'It makes me relaxed, It will help me to manage stress',\n",
              "       'It makes me relaxed, It will help me to manage stress',\n",
              "       'Just for fun, It makes me relaxed, It will help me to manage stress',\n",
              "       'It makes me relaxed, It will help me to manage stress',\n",
              "       'Just for fun, It makes me relaxed, It will help me to manage stress',\n",
              "       'It makes me relaxed',\n",
              "       'Just for fun, It makes me relaxed, It will help me to manage stress',\n",
              "       'It makes me relaxed, It will help me to manage stress',\n",
              "       'It makes me relaxed, It will help me to manage stress',\n",
              "       'It makes me relaxed, It will help me to manage stress',\n",
              "       'It makes me relaxed, It will help me to manage stress',\n",
              "       'It makes me relaxed, It will help me to manage stress',\n",
              "       'It makes me relaxed, It will help me to manage stress, Because I want to be a singer',\n",
              "       'It makes me relaxed', 'It makes me relaxed',\n",
              "       'It makes me relaxed',\n",
              "       'It makes me relaxed, It will help me to manage stress',\n",
              "       'It makes me relaxed, It will help me to manage stress',\n",
              "       'It makes me relaxed, It will help me to manage stress',\n",
              "       'It makes me relaxed, It will help me to manage stress',\n",
              "       'It makes me relaxed, It will help me to manage stress',\n",
              "       'Just for fun', 'It makes me relaxed',\n",
              "       'Just for fun, It makes me relaxed, It will help me to manage stress, Because I want to be a singer',\n",
              "       'It makes me relaxed', 'It makes me relaxed', 'Just for fun',\n",
              "       'It makes me relaxed',\n",
              "       'It makes me relaxed, It will help me to manage stress',\n",
              "       'It makes me relaxed, It will help me to manage stress',\n",
              "       'It makes me relaxed',\n",
              "       'It makes me relaxed, It will help me to manage stress',\n",
              "       'It makes me relaxed',\n",
              "       'It makes me relaxed, It will help me to manage stress',\n",
              "       'It makes me relaxed',\n",
              "       'It makes me relaxed, It will help me to manage stress',\n",
              "       'Just for fun, It makes me relaxed, It will help me to manage stress, Because I want to be a singer',\n",
              "       'It makes me relaxed, Because I want to be a singer',\n",
              "       'It makes me relaxed',\n",
              "       'It makes me relaxed, It will help me to manage stress',\n",
              "       'Just for fun, It makes me relaxed, It will help me to manage stress',\n",
              "       'Just for fun, It makes me relaxed, It will help me to manage stress',\n",
              "       'It will help me to manage stress', 'It makes me relaxed',\n",
              "       'It makes me relaxed', 'It makes me relaxed',\n",
              "       'Just for fun, It makes me relaxed', 'Just for fun',\n",
              "       'It makes me relaxed, It will help me to manage stress',\n",
              "       'It makes me relaxed',\n",
              "       'It makes me relaxed, It will help me to manage stress',\n",
              "       'It makes me relaxed, It will help me to manage stress',\n",
              "       'It will help me to manage stress', 'It makes me relaxed',\n",
              "       'It makes me relaxed',\n",
              "       'It makes me relaxed, It will help me to manage stress',\n",
              "       'It makes me relaxed, It will help me to manage stress',\n",
              "       'Just for fun, It makes me relaxed', 'It makes me relaxed',\n",
              "       'It makes me relaxed',\n",
              "       'It makes me relaxed, It will help me to manage stress',\n",
              "       \"It's divine\",\n",
              "       'It makes me relaxed, It will help me to manage stress',\n",
              "       'It makes me relaxed', 'Just for fun, It makes me relaxed',\n",
              "       'It makes me relaxed', 'It makes me relaxed',\n",
              "       'It makes me relaxed, It will help me to manage stress',\n",
              "       'It makes me relaxed, It will help me to manage stress',\n",
              "       'It makes me relaxed', 'It makes me relaxed',\n",
              "       'It makes me relaxed, It will help me to manage stress',\n",
              "       'It will help me to manage stress',\n",
              "       'It makes me relaxed, It will help me to manage stress',\n",
              "       'It makes me relaxed', 'It will help me to manage stress',\n",
              "       'It makes me relaxed, It will help me to manage stress',\n",
              "       'It makes me relaxed, It will help me to manage stress',\n",
              "       'It makes me relaxed', 'It makes me relaxed',\n",
              "       'It makes me relaxed, It will help me to manage stress',\n",
              "       'It makes me relaxed, Because I want to be a singer, I love it because I am a singer ',\n",
              "       'Just for fun, It makes me relaxed, It will help me to manage stress',\n",
              "       'It makes me relaxed',\n",
              "       'Just for fun, It makes me relaxed, It will help me to manage stress, Because I want to be a singer',\n",
              "       'Just for fun, It makes me relaxed, It will help me to manage stress',\n",
              "       'To be far from distractions while studying ',\n",
              "       'Because I want to be a singer',\n",
              "       'Just for fun, It makes me relaxed, It will help me to manage stress',\n",
              "       'It makes me relaxed', 'Just for fun', 'It makes me relaxed',\n",
              "       'It will help me to manage stress', 'It makes me relaxed',\n",
              "       'It will help me to manage stress',\n",
              "       'Just for fun, It makes me relaxed',\n",
              "       'Just for fun, It makes me relaxed',\n",
              "       'Just for fun, It makes me relaxed',\n",
              "       'Just for fun, It makes me relaxed, It will help me to manage stress',\n",
              "       'It will help me to manage stress',\n",
              "       'It makes me relaxed, It will help me to manage stress',\n",
              "       'It will help me to manage stress, Because I want to be a singer',\n",
              "       'It makes me relaxed',\n",
              "       'Just for fun, It will help me to manage stress',\n",
              "       'It makes me relaxed, It will help me to manage stress',\n",
              "       'It makes me relaxed'], dtype='<U98')"
            ]
          },
          "metadata": {
            "tags": []
          },
          "execution_count": 70
        }
      ]
    },
    {
      "cell_type": "code",
      "metadata": {
        "id": "3UmdER99YsYl"
      },
      "source": [
        "for i in range(0,rs.size):\n",
        " rs[i]=np.where(True,np.frombuffer(rs[i], \"uint8\").sum(),\"\")"
      ],
      "execution_count": null,
      "outputs": []
    },
    {
      "cell_type": "code",
      "metadata": {
        "colab": {
          "base_uri": "https://localhost:8080/"
        },
        "id": "0o3TZ8gnY0Jc",
        "outputId": "837f066a-eac2-4b95-ac21-64d7f4ab5cef"
      },
      "source": [
        "rs"
      ],
      "execution_count": null,
      "outputs": [
        {
          "output_type": "execute_result",
          "data": {
            "text/plain": [
              "array(['2983', '4651', '2976', '4817', '4817', '1765', '4817', '1765',\n",
              "       '1142', '4817', '4817', '4817', '4817', '6035', '4817', '6035',\n",
              "       '1765', '6035', '4817', '4817', '4817', '4817', '4817', '7467',\n",
              "       '1765', '1765', '1765', '4817', '4817', '4817', '4817', '4817',\n",
              "       '1142', '1765', '8685', '1765', '1765', '1142', '1765', '4817',\n",
              "       '4817', '1765', '4817', '1765', '4817', '1765', '4817', '8685',\n",
              "       '4415', '1765', '4817', '6035', '6035', '2976', '1765', '1765',\n",
              "       '1765', '2983', '1142', '4817', '1765', '4817', '4817', '2976',\n",
              "       '1765', '1765', '4817', '4817', '2983', '1765', '1765', '4817',\n",
              "       '1014', '4817', '1765', '2983', '1765', '1765', '4817', '4817',\n",
              "       '1765', '1765', '4817', '2976', '4817', '1765', '2976', '4817',\n",
              "       '4817', '1765', '1765', '4817', '7231', '6035', '1765', '8685',\n",
              "       '6035', '4094', '2574', '6035', '1765', '1142', '1765', '2976',\n",
              "       '1765', '2976', '2983', '2983', '2983', '6035', '2976', '4817',\n",
              "       '5626', '1765', '4194', '4817', '1765'], dtype='<U98')"
            ]
          },
          "metadata": {
            "tags": []
          },
          "execution_count": 72
        }
      ]
    },
    {
      "cell_type": "code",
      "metadata": {
        "id": "8VeqxL6wY5dO"
      },
      "source": [
        "data.Reason = rs"
      ],
      "execution_count": null,
      "outputs": []
    },
    {
      "cell_type": "code",
      "metadata": {
        "id": "uHCMZGLkY83u"
      },
      "source": [
        "data.head()"
      ],
      "execution_count": null,
      "outputs": []
    },
    {
      "cell_type": "code",
      "metadata": {
        "id": "nZyka2qGw7UX"
      },
      "source": [
        "name=data.Name"
      ],
      "execution_count": null,
      "outputs": []
    },
    {
      "cell_type": "code",
      "metadata": {
        "id": "V8rHYEUmb-VD"
      },
      "source": [
        "data=data.drop(columns=['Name'])"
      ],
      "execution_count": null,
      "outputs": []
    },
    {
      "cell_type": "code",
      "metadata": {
        "colab": {
          "base_uri": "https://localhost:8080/",
          "height": 221
        },
        "id": "BP4xJlrNcGI8",
        "outputId": "12d0d004-588d-49da-f78b-730ef7196c53"
      },
      "source": [
        "data.head()"
      ],
      "execution_count": null,
      "outputs": [
        {
          "output_type": "execute_result",
          "data": {
            "text/html": [
              "<div>\n",
              "<style scoped>\n",
              "    .dataframe tbody tr th:only-of-type {\n",
              "        vertical-align: middle;\n",
              "    }\n",
              "\n",
              "    .dataframe tbody tr th {\n",
              "        vertical-align: top;\n",
              "    }\n",
              "\n",
              "    .dataframe thead th {\n",
              "        text-align: right;\n",
              "    }\n",
              "</style>\n",
              "<table border=\"1\" class=\"dataframe\">\n",
              "  <thead>\n",
              "    <tr style=\"text-align: right;\">\n",
              "      <th></th>\n",
              "      <th>Age</th>\n",
              "      <th>Student</th>\n",
              "      <th>Gender</th>\n",
              "      <th>State</th>\n",
              "      <th>MotherTongue</th>\n",
              "      <th>MY1L</th>\n",
              "      <th>MY2L</th>\n",
              "      <th>MY3L</th>\n",
              "      <th>MusicWhileTravelling</th>\n",
              "      <th>MusicTime</th>\n",
              "      <th>Reason</th>\n",
              "      <th>RateOldSongs</th>\n",
              "      <th>RateDevSongs</th>\n",
              "      <th>GeneresPreference</th>\n",
              "      <th>RateMusic</th>\n",
              "    </tr>\n",
              "  </thead>\n",
              "  <tbody>\n",
              "    <tr>\n",
              "      <th>0</th>\n",
              "      <td>20</td>\n",
              "      <td>1</td>\n",
              "      <td>1</td>\n",
              "      <td>0</td>\n",
              "      <td>0</td>\n",
              "      <td>0</td>\n",
              "      <td>2</td>\n",
              "      <td>10</td>\n",
              "      <td>4</td>\n",
              "      <td>831</td>\n",
              "      <td>2983</td>\n",
              "      <td>3</td>\n",
              "      <td>2</td>\n",
              "      <td>0</td>\n",
              "      <td>4</td>\n",
              "    </tr>\n",
              "    <tr>\n",
              "      <th>1</th>\n",
              "      <td>21</td>\n",
              "      <td>1</td>\n",
              "      <td>1</td>\n",
              "      <td>1</td>\n",
              "      <td>1</td>\n",
              "      <td>1</td>\n",
              "      <td>10</td>\n",
              "      <td>3</td>\n",
              "      <td>5</td>\n",
              "      <td>2641</td>\n",
              "      <td>4651</td>\n",
              "      <td>4</td>\n",
              "      <td>2</td>\n",
              "      <td>2</td>\n",
              "      <td>5</td>\n",
              "    </tr>\n",
              "    <tr>\n",
              "      <th>2</th>\n",
              "      <td>23</td>\n",
              "      <td>1</td>\n",
              "      <td>0</td>\n",
              "      <td>0</td>\n",
              "      <td>0</td>\n",
              "      <td>0</td>\n",
              "      <td>10</td>\n",
              "      <td>2</td>\n",
              "      <td>5</td>\n",
              "      <td>1734</td>\n",
              "      <td>2976</td>\n",
              "      <td>4</td>\n",
              "      <td>4</td>\n",
              "      <td>3</td>\n",
              "      <td>5</td>\n",
              "    </tr>\n",
              "    <tr>\n",
              "      <th>3</th>\n",
              "      <td>20</td>\n",
              "      <td>1</td>\n",
              "      <td>1</td>\n",
              "      <td>2</td>\n",
              "      <td>0</td>\n",
              "      <td>0</td>\n",
              "      <td>2</td>\n",
              "      <td>10</td>\n",
              "      <td>5</td>\n",
              "      <td>2641</td>\n",
              "      <td>4817</td>\n",
              "      <td>4</td>\n",
              "      <td>2</td>\n",
              "      <td>2</td>\n",
              "      <td>5</td>\n",
              "    </tr>\n",
              "    <tr>\n",
              "      <th>4</th>\n",
              "      <td>23</td>\n",
              "      <td>1</td>\n",
              "      <td>0</td>\n",
              "      <td>0</td>\n",
              "      <td>0</td>\n",
              "      <td>0</td>\n",
              "      <td>2</td>\n",
              "      <td>10</td>\n",
              "      <td>5</td>\n",
              "      <td>8052</td>\n",
              "      <td>4817</td>\n",
              "      <td>3</td>\n",
              "      <td>1</td>\n",
              "      <td>3</td>\n",
              "      <td>5</td>\n",
              "    </tr>\n",
              "  </tbody>\n",
              "</table>\n",
              "</div>"
            ],
            "text/plain": [
              "   Age Student Gender  ... RateDevSongs GeneresPreference RateMusic\n",
              "0   20       1      1  ...            2                 0         4\n",
              "1   21       1      1  ...            2                 2         5\n",
              "2   23       1      0  ...            4                 3         5\n",
              "3   20       1      1  ...            2                 2         5\n",
              "4   23       1      0  ...            1                 3         5\n",
              "\n",
              "[5 rows x 15 columns]"
            ]
          },
          "metadata": {
            "tags": []
          },
          "execution_count": 77
        }
      ]
    },
    {
      "cell_type": "code",
      "metadata": {
        "id": "nwfblPZpcJKq"
      },
      "source": [
        "from sklearn.preprocessing import StandardScaler"
      ],
      "execution_count": null,
      "outputs": []
    },
    {
      "cell_type": "code",
      "metadata": {
        "colab": {
          "base_uri": "https://localhost:8080/"
        },
        "id": "5jx78Hm1c3uP",
        "outputId": "654d42c4-068e-4885-96d6-39028021d4ab"
      },
      "source": [
        "scaler = StandardScaler()\n",
        "scaler.fit(data)"
      ],
      "execution_count": null,
      "outputs": [
        {
          "output_type": "execute_result",
          "data": {
            "text/plain": [
              "StandardScaler(copy=True, with_mean=True, with_std=True)"
            ]
          },
          "metadata": {
            "tags": []
          },
          "execution_count": 79
        }
      ]
    },
    {
      "cell_type": "code",
      "metadata": {
        "id": "myqggmP4c9Bt"
      },
      "source": [
        "scaled_data = scaler.transform(data)"
      ],
      "execution_count": null,
      "outputs": []
    },
    {
      "cell_type": "code",
      "metadata": {
        "id": "K5fb6qCcdCM0"
      },
      "source": [
        "from sklearn.decomposition import PCA"
      ],
      "execution_count": null,
      "outputs": []
    },
    {
      "cell_type": "code",
      "metadata": {
        "id": "rvKRfZJ6dGHW"
      },
      "source": [
        "pca = PCA(n_components=2)"
      ],
      "execution_count": null,
      "outputs": []
    },
    {
      "cell_type": "code",
      "metadata": {
        "colab": {
          "base_uri": "https://localhost:8080/"
        },
        "id": "dslsLdwQdIza",
        "outputId": "9809221a-e7c8-4cf3-eb62-eed980ffd443"
      },
      "source": [
        "pca.fit(scaled_data)"
      ],
      "execution_count": null,
      "outputs": [
        {
          "output_type": "execute_result",
          "data": {
            "text/plain": [
              "PCA(copy=True, iterated_power='auto', n_components=2, random_state=None,\n",
              "    svd_solver='auto', tol=0.0, whiten=False)"
            ]
          },
          "metadata": {
            "tags": []
          },
          "execution_count": 83
        }
      ]
    },
    {
      "cell_type": "code",
      "metadata": {
        "id": "Zu5CeRmmdNdy"
      },
      "source": [
        "x_pca = pca.transform(scaled_data)"
      ],
      "execution_count": null,
      "outputs": []
    },
    {
      "cell_type": "code",
      "metadata": {
        "colab": {
          "base_uri": "https://localhost:8080/"
        },
        "id": "KuHXiH78dQER",
        "outputId": "bd0a788e-f270-44b8-93b2-de886a0e3f85"
      },
      "source": [
        "scaled_data.shape"
      ],
      "execution_count": null,
      "outputs": [
        {
          "output_type": "execute_result",
          "data": {
            "text/plain": [
              "(117, 15)"
            ]
          },
          "metadata": {
            "tags": []
          },
          "execution_count": 85
        }
      ]
    },
    {
      "cell_type": "code",
      "metadata": {
        "colab": {
          "base_uri": "https://localhost:8080/"
        },
        "id": "qvx90k_odUlX",
        "outputId": "45192998-2da9-46be-a3fb-1d801d296a1a"
      },
      "source": [
        "x_pca.shape"
      ],
      "execution_count": null,
      "outputs": [
        {
          "output_type": "execute_result",
          "data": {
            "text/plain": [
              "(117, 2)"
            ]
          },
          "metadata": {
            "tags": []
          },
          "execution_count": 86
        }
      ]
    },
    {
      "cell_type": "code",
      "metadata": {
        "id": "qDZ7tuzA4rv1"
      },
      "source": [
        "pip install mplcursors"
      ],
      "execution_count": null,
      "outputs": []
    },
    {
      "cell_type": "code",
      "metadata": {
        "colab": {
          "base_uri": "https://localhost:8080/",
          "height": 300
        },
        "id": "AZ83bzyGdWWV",
        "outputId": "65ba2abf-d56c-4205-963f-06ce06cf4cda"
      },
      "source": [
        "plt.scatter(x_pca[:,0],x_pca[:,1],cmap='plasma')\n",
        "plt.xlabel('First principal component')\n",
        "plt.ylabel('Second Principal Component')\n"
      ],
      "execution_count": null,
      "outputs": [
        {
          "output_type": "execute_result",
          "data": {
            "text/plain": [
              "Text(0, 0.5, 'Second Principal Component')"
            ]
          },
          "metadata": {
            "tags": []
          },
          "execution_count": 88
        },
        {
          "output_type": "display_data",
          "data": {
            "image/png": "[encoded data removed]",
            "text/plain": [
              "<Figure size 432x288 with 1 Axes>"
            ]
          },
          "metadata": {
            "tags": [],
            "needs_background": "light"
          }
        }
      ]
    },
    {
      "cell_type": "code",
      "metadata": {
        "id": "l2ALHbC1iI_j"
      },
      "source": [
        "age=data.Age"
      ],
      "execution_count": null,
      "outputs": []
    },
    {
      "cell_type": "code",
      "metadata": {
        "colab": {
          "base_uri": "https://localhost:8080/"
        },
        "id": "JMuzvMLOiMam",
        "outputId": "4f74c8f9-d159-4827-e094-1a8e7bb8006c"
      },
      "source": [
        "age"
      ],
      "execution_count": null,
      "outputs": [
        {
          "output_type": "execute_result",
          "data": {
            "text/plain": [
              "0      20\n",
              "1      21\n",
              "2      23\n",
              "3      20\n",
              "4      23\n",
              "       ..\n",
              "112    18\n",
              "113    19\n",
              "114    54\n",
              "115    60\n",
              "116    23\n",
              "Name: Age, Length: 117, dtype: int64"
            ]
          },
          "metadata": {
            "tags": []
          },
          "execution_count": 90
        }
      ]
    },
    {
      "cell_type": "code",
      "metadata": {
        "id": "mPhvKPPRgFCC"
      },
      "source": [
        "def pltcolor(lst):\n",
        "    cols=[]\n",
        "    for l in lst:\n",
        "        if l<=25:\n",
        "            cols.append('red')\n",
        "        elif l>25 and l<=30:\n",
        "            cols.append('blue')\n",
        "        elif l>30 and l<=35:\n",
        "            cols.append('green')\n",
        "        elif l>35 and l<40:\n",
        "            cols.append('cyan')\n",
        "        elif l>=40 and l<=50:\n",
        "             cols.append('black')\n",
        "        else:\n",
        "             cols.append('yellow')\n",
        "\n",
        "    return cols"
      ],
      "execution_count": null,
      "outputs": []
    },
    {
      "cell_type": "code",
      "metadata": {
        "id": "m8tB2I3Rg9Vr"
      },
      "source": [
        "cols=pltcolor(age)"
      ],
      "execution_count": null,
      "outputs": []
    },
    {
      "cell_type": "code",
      "metadata": {
        "id": "HiigSPoIiCSw"
      },
      "source": [
        "cols"
      ],
      "execution_count": null,
      "outputs": []
    },
    {
      "cell_type": "code",
      "metadata": {
        "colab": {
          "base_uri": "https://localhost:8080/",
          "height": 283
        },
        "id": "GlV6CFO4iTx_",
        "outputId": "da573a00-e851-40b0-b36b-4fa22a8edeef"
      },
      "source": [
        "plt.scatter(x_pca[:,0],x_pca[:,1],c=cols)\n",
        "plt.xlabel('First principal component')\n",
        "plt.ylabel('Second Principal Component') \n",
        "plt.grid(True)\n",
        "plt.show()"
      ],
      "execution_count": null,
      "outputs": [
        {
          "output_type": "display_data",
          "data": {
            "image/png": "[encoded data removed]",
            "text/plain": [
              "<Figure size 432x288 with 1 Axes>"
            ]
          },
          "metadata": {
            "tags": [],
            "needs_background": "light"
          }
        }
      ]
    },
    {
      "cell_type": "code",
      "metadata": {
        "id": "6lhrdnBWUJRs"
      },
      "source": [
        "gen = data.Gender"
      ],
      "execution_count": null,
      "outputs": []
    },
    {
      "cell_type": "code",
      "metadata": {
        "colab": {
          "base_uri": "https://localhost:8080/"
        },
        "id": "dg-NAovkUY0v",
        "outputId": "f9b7470f-f587-423c-a535-c55050be64c4"
      },
      "source": [
        "gen.head()"
      ],
      "execution_count": null,
      "outputs": [
        {
          "output_type": "execute_result",
          "data": {
            "text/plain": [
              "0    1\n",
              "1    1\n",
              "2    0\n",
              "3    1\n",
              "4    0\n",
              "Name: Gender, dtype: object"
            ]
          },
          "metadata": {
            "tags": []
          },
          "execution_count": 96
        }
      ]
    },
    {
      "cell_type": "code",
      "metadata": {
        "id": "nOGk3oOBUcCK"
      },
      "source": [
        "def pltcolor(lst):\n",
        "    cols=[]\n",
        "    for l in lst:\n",
        "        if l==0:\n",
        "            cols.append('red')\n",
        "        else:\n",
        "             cols.append('blue')\n",
        "    return cols"
      ],
      "execution_count": null,
      "outputs": []
    },
    {
      "cell_type": "code",
      "metadata": {
        "id": "QMpiSJGiUqdJ"
      },
      "source": [
        "cols=pltcolor(gen)"
      ],
      "execution_count": null,
      "outputs": []
    },
    {
      "cell_type": "code",
      "metadata": {
        "id": "EFkbCjayUvLG"
      },
      "source": [
        "cols"
      ],
      "execution_count": null,
      "outputs": []
    },
    {
      "cell_type": "code",
      "metadata": {
        "colab": {
          "base_uri": "https://localhost:8080/",
          "height": 283
        },
        "id": "o2w89DsnU041",
        "outputId": "01980466-903f-4147-f88b-b29666c1bbd9"
      },
      "source": [
        "plt.scatter(x_pca[:,0],x_pca[:,1],c=cols)\n",
        "plt.xlabel('First principal component')\n",
        "plt.ylabel('Second Principal Component') \n",
        "plt.grid(True)\n",
        "plt.show()"
      ],
      "execution_count": null,
      "outputs": [
        {
          "output_type": "display_data",
          "data": {
            "image/png": "[encoded data removed]",
            "text/plain": [
              "<Figure size 432x288 with 1 Axes>"
            ]
          },
          "metadata": {
            "tags": [],
            "needs_background": "light"
          }
        }
      ]
    },
    {
      "cell_type": "code",
      "metadata": {
        "id": "LZZdLYKFWJJV"
      },
      "source": [
        "from sklearn.cluster import AgglomerativeClustering\n",
        "cluster = AgglomerativeClustering(n_clusters=8, affinity='euclidean', linkage='ward')\n",
        "predc_1=cluster.fit_predict(x_pca)"
      ],
      "execution_count": null,
      "outputs": []
    },
    {
      "cell_type": "code",
      "metadata": {
        "colab": {
          "base_uri": "https://localhost:8080/",
          "height": 286
        },
        "id": "i2C4lom5Wejh",
        "outputId": "9d5687b7-ed45-41c5-bdd4-775c6018cdad"
      },
      "source": [
        "plt.scatter(x_pca[:,0],x_pca[:,1], c=cluster.labels_, cmap='rainbow')"
      ],
      "execution_count": null,
      "outputs": [
        {
          "output_type": "execute_result",
          "data": {
            "text/plain": [
              "<matplotlib.collections.PathCollection at 0x7fc034c76ef0>"
            ]
          },
          "metadata": {
            "tags": []
          },
          "execution_count": 111
        },
        {
          "output_type": "display_data",
          "data": {
            "image/png": "[encoded data removed]",
            "text/plain": [
              "<Figure size 432x288 with 1 Axes>"
            ]
          },
          "metadata": {
            "tags": [],
            "needs_background": "light"
          }
        }
      ]
    }
  ]
}